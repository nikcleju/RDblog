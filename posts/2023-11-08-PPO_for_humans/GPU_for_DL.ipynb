{
  "cells": [
    {
      "cell_type": "raw",
      "metadata": {},
      "source": [
        "---\n",
        "title: PPO for humans\n",
        "date: \"2023-11-08\"\n",
        "categories: [RL, PPO]\n",
        "description: A description of PPO as implemented in stabe-baselines 1.8.0\n",
        "#image: 'img/2022-11-14-09-20-56.png'\n",
        "toc: true\n",
        "#toc-location: body\n",
        "toc-location: left\n",
        "toc-depth: 3\n",
        "\n",
        "#bibliography: CNCpapers.bib\n",
        "\n",
        "format:\n",
        "  html: default\n",
        "  latex: default\n",
        "---"
      ],
      "id": "893fecb6"
    },
    {
      "cell_type": "markdown",
      "metadata": {},
      "source": [
        "## Neural networks\n",
        "\n",
        "For PPO, we have two neural networks:\n",
        "\n",
        "- the action network `action_net`\n",
        "- the value network `value_net`\n",
        "\n",
        "\n",
        "\n",
        "![](img/ActionNet.png)\n",
        "\n",
        "\\\n",
        "\\\n",
        "\\\n",
        "\n",
        "![](img/ValueNet.png)\n",
        "\n",
        "They are typically joined together in a single PyTorch network object:\n"
      ],
      "id": "4836abd5"
    },
    {
      "cell_type": "code",
      "metadata": {},
      "source": [
        "    def forward(self, obs: th.Tensor, deterministic: bool = False) -> Tuple[th.Tensor, th.Tensor, th.Tensor]:\n",
        "        \"\"\"\n",
        "        Forward pass in all the networks (actor and critic)\n",
        "\n",
        "        :param obs: Observation\n",
        "        :param deterministic: Whether to sample or use deterministic actions\n",
        "        :return: action, value and log probability of the action\n",
        "        \"\"\"\n",
        "        # Preprocess the observation if needed\n",
        "        features = self.extract_features(obs)\n",
        "        if self.share_features_extractor:\n",
        "            latent_pi, latent_vf = self.mlp_extractor(features)\n",
        "        else:\n",
        "            pi_features, vf_features = features\n",
        "            latent_pi = self.mlp_extractor.forward_actor(pi_features)\n",
        "            latent_vf = self.mlp_extractor.forward_critic(vf_features)\n",
        "        # Evaluate the values for the given observations\n",
        "        values = self.value_net(latent_vf)\n",
        "        distribution = self._get_action_dist_from_latent(latent_pi)\n",
        "        actions = distribution.get_actions(deterministic=deterministic)\n",
        "        log_prob = distribution.log_prob(actions)\n",
        "        actions = actions.reshape((-1, *self.action_space.shape))\n",
        "        return actions, values, log_prob"
      ],
      "id": "13cc901b",
      "execution_count": null,
      "outputs": []
    },
    {
      "cell_type": "markdown",
      "metadata": {},
      "source": [
        "## PPO training\n",
        "\n",
        "The main loop in PPO is\n",
        "1. Repeat\n",
        "2.   -\n",
        "\n",
        "## Various benchmarks\n",
        "\n",
        "### LambdaLabs GPU benchmarks\n",
        "\n",
        "Link: [https://lambdalabs.com/gpu-benchmarks](https://lambdalabs.com/gpu-benchmarks)\n",
        "\n",
        "![](img/2023-01-30-09-04-03.png)\n",
        "\n",
        "![](img/2023-01-30-12-02-07.png)\n",
        "\n",
        "### AIME info\n",
        "\n",
        "Link: [https://www.aime.info/en/blog/deep-learning-gpu-benchmarks-2021/](https://www.aime.info/en/blog/deep-learning-gpu-benchmarks-2021/)\n",
        "\n",
        "![](img/2023-01-30-09-05-06.png)\n",
        "\n",
        "### Bizon-tech\n",
        "\n",
        "Link: [https://bizon-tech.com/gpu-benchmarks/NVIDIA-RTX-3090-vs-NVIDIA-RTX-A6000-vs-NVIDIA-RTX-A5000/579vs585vs605](https://bizon-tech.com/gpu-benchmarks/NVIDIA-RTX-3090-vs-NVIDIA-RTX-A6000-vs-NVIDIA-RTX-A5000/579vs585vs605)\n",
        "\n",
        "![](img/2023-01-30-09-06-56.png)"
      ],
      "id": "8e5f61fd"
    }
  ],
  "metadata": {
    "kernelspec": {
      "name": "python3",
      "language": "python",
      "display_name": "Python 3 (ipykernel)"
    }
  },
  "nbformat": 4,
  "nbformat_minor": 5
}